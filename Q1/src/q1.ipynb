{
 "cells": [
  {
   "cell_type": "code",
   "execution_count": 11,
   "metadata": {},
   "outputs": [],
   "source": [
    "import pandas as pd\n",
    "import matplotlib.pyplot as plt\n",
    "import seaborn as sns\n",
    "\n",
    "from sklearn.cluster import KMeans\n",
    "import matplotlib.pyplot as plt\n",
    "from sklearn.metrics import silhouette_score"
   ]
  },
  {
   "cell_type": "markdown",
   "metadata": {},
   "source": [
    "### Stage1:Data Preparation and Data Cleaning\n"
   ]
  },
  {
   "cell_type": "code",
   "execution_count": 12,
   "metadata": {},
   "outputs": [],
   "source": [
    "dataset = pd.read_csv(\"../data_raw/Frailty_Data.csv\")\n",
    "dataset.dropna(inplace=True)"
   ]
  },
  {
   "cell_type": "code",
   "execution_count": 13,
   "metadata": {},
   "outputs": [
    {
     "data": {
      "text/html": [
       "<div>\n",
       "<style scoped>\n",
       "    .dataframe tbody tr th:only-of-type {\n",
       "        vertical-align: middle;\n",
       "    }\n",
       "\n",
       "    .dataframe tbody tr th {\n",
       "        vertical-align: top;\n",
       "    }\n",
       "\n",
       "    .dataframe thead th {\n",
       "        text-align: right;\n",
       "    }\n",
       "</style>\n",
       "<table border=\"1\" class=\"dataframe\">\n",
       "  <thead>\n",
       "    <tr style=\"text-align: right;\">\n",
       "      <th></th>\n",
       "      <th>Height</th>\n",
       "      <th>Weight</th>\n",
       "      <th>Age</th>\n",
       "      <th>GripStrength</th>\n",
       "      <th>Frailty</th>\n",
       "    </tr>\n",
       "  </thead>\n",
       "  <tbody>\n",
       "    <tr>\n",
       "      <th>0</th>\n",
       "      <td>65.8</td>\n",
       "      <td>112.0</td>\n",
       "      <td>30</td>\n",
       "      <td>30.0</td>\n",
       "      <td>N</td>\n",
       "    </tr>\n",
       "    <tr>\n",
       "      <th>1</th>\n",
       "      <td>71.5</td>\n",
       "      <td>136.0</td>\n",
       "      <td>19</td>\n",
       "      <td>31.0</td>\n",
       "      <td>N</td>\n",
       "    </tr>\n",
       "    <tr>\n",
       "      <th>2</th>\n",
       "      <td>69.4</td>\n",
       "      <td>153.0</td>\n",
       "      <td>45</td>\n",
       "      <td>29.0</td>\n",
       "      <td>N</td>\n",
       "    </tr>\n",
       "    <tr>\n",
       "      <th>3</th>\n",
       "      <td>68.2</td>\n",
       "      <td>142.0</td>\n",
       "      <td>22</td>\n",
       "      <td>28.0</td>\n",
       "      <td>Y</td>\n",
       "    </tr>\n",
       "    <tr>\n",
       "      <th>4</th>\n",
       "      <td>67.8</td>\n",
       "      <td>144.0</td>\n",
       "      <td>29</td>\n",
       "      <td>24.0</td>\n",
       "      <td>Y</td>\n",
       "    </tr>\n",
       "    <tr>\n",
       "      <th>5</th>\n",
       "      <td>68.7</td>\n",
       "      <td>123.0</td>\n",
       "      <td>50</td>\n",
       "      <td>26.0</td>\n",
       "      <td>N</td>\n",
       "    </tr>\n",
       "    <tr>\n",
       "      <th>6</th>\n",
       "      <td>69.8</td>\n",
       "      <td>141.0</td>\n",
       "      <td>51</td>\n",
       "      <td>22.0</td>\n",
       "      <td>Y</td>\n",
       "    </tr>\n",
       "    <tr>\n",
       "      <th>7</th>\n",
       "      <td>70.1</td>\n",
       "      <td>136.0</td>\n",
       "      <td>23</td>\n",
       "      <td>20.0</td>\n",
       "      <td>Y</td>\n",
       "    </tr>\n",
       "    <tr>\n",
       "      <th>8</th>\n",
       "      <td>67.9</td>\n",
       "      <td>112.0</td>\n",
       "      <td>17</td>\n",
       "      <td>19.0</td>\n",
       "      <td>N</td>\n",
       "    </tr>\n",
       "    <tr>\n",
       "      <th>9</th>\n",
       "      <td>66.8</td>\n",
       "      <td>120.0</td>\n",
       "      <td>39</td>\n",
       "      <td>31.0</td>\n",
       "      <td>N</td>\n",
       "    </tr>\n",
       "  </tbody>\n",
       "</table>\n",
       "</div>"
      ],
      "text/plain": [
       "   Height  Weight  Age  GripStrength Frailty \n",
       "0    65.8   112.0   30          30.0       N \n",
       "1    71.5   136.0   19          31.0       N \n",
       "2    69.4   153.0   45          29.0       N \n",
       "3    68.2   142.0   22          28.0       Y \n",
       "4    67.8   144.0   29          24.0       Y \n",
       "5    68.7   123.0   50          26.0       N \n",
       "6    69.8   141.0   51          22.0       Y \n",
       "7    70.1   136.0   23          20.0       Y \n",
       "8    67.9   112.0   17          19.0       N \n",
       "9    66.8   120.0   39          31.0       N "
      ]
     },
     "execution_count": 13,
     "metadata": {},
     "output_type": "execute_result"
    }
   ],
   "source": [
    "dataset['Height'] = dataset['Height'].astype(float)\n",
    "dataset['Weight'] = dataset['Weight'].astype(float)\n",
    "dataset['Age'] = dataset['Age'].astype(int)\n",
    "dataset['GripStrength'] = dataset['GripStrength'].astype(float)\n",
    "dataset"
   ]
  },
  {
   "cell_type": "code",
   "execution_count": 14,
   "metadata": {},
   "outputs": [
    {
     "name": "stdout",
     "output_type": "stream",
     "text": [
      "   Height  Weight  Age  GripStrength Frailty \n",
      "0    65.8   112.0   30          30.0       N \n",
      "1    71.5   136.0   19          31.0       N \n",
      "2    69.4   153.0   45          29.0       N \n",
      "3    68.2   142.0   22          28.0       Y \n",
      "4    67.8   144.0   29          24.0       Y \n",
      "5    68.7   123.0   50          26.0       N \n",
      "6    69.8   141.0   51          22.0       Y \n",
      "7    70.1   136.0   23          20.0       Y \n",
      "8    67.9   112.0   17          19.0       N \n",
      "9    66.8   120.0   39          31.0       N \n"
     ]
    }
   ],
   "source": [
    "dataset# Save the cleaned dataset\n",
    "dataset = dataset.to_csv(\"../data_clean/Frailty_Data_clean.csv\", index=False)\n",
    "dataset = pd.read_csv(\"../data_clean/Frailty_Data_clean.csv\")\n",
    "print(dataset)"
   ]
  }
 ],
 "metadata": {
  "kernelspec": {
   "display_name": "Python 3",
   "language": "python",
   "name": "python3"
  },
  "language_info": {
   "codemirror_mode": {
    "name": "ipython",
    "version": 3
   },
   "file_extension": ".py",
   "mimetype": "text/x-python",
   "name": "python",
   "nbconvert_exporter": "python",
   "pygments_lexer": "ipython3",
   "version": "3.7.0"
  }
 },
 "nbformat": 4,
 "nbformat_minor": 2
}
